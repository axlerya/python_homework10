{
 "cells": [
  {
   "cell_type": "code",
   "execution_count": null,
   "metadata": {},
   "outputs": [],
   "source": [
    "import pandas as pd\n",
    "import random\n",
    "\n",
    "lst = ['robot'] * 10\n",
    "lst += ['human'] * 10\n",
    "random.shuffle(lst)\n",
    "df = pd.DataFrame({'whoAmI': lst})\n",
    "df.head()\n"
   ]
  },
  {
   "cell_type": "code",
   "execution_count": null,
   "metadata": {},
   "outputs": [],
   "source": [
    "col_human = []\n",
    "col_robot = []\n",
    "for i in range(0, df.shape[0]):\n",
    "    if df.iloc[i]['whoAmI'] == 'human':\n",
    "        col_human.append(1)\n",
    "        col_robot.append(0)\n",
    "    else:\n",
    "        col_human.append(0)\n",
    "        col_robot.append(1)\n",
    "df['human'] = col_human\n",
    "df['robot'] = col_robot\n",
    "df.head()\n"
   ]
  }
 ],
 "metadata": {
  "kernelspec": {
   "display_name": "Python 3",
   "language": "python",
   "name": "python3"
  },
  "language_info": {
   "codemirror_mode": {
    "name": "ipython",
    "version": 3
   },
   "file_extension": ".py",
   "mimetype": "text/x-python",
   "name": "python",
   "nbconvert_exporter": "python",
   "pygments_lexer": "ipython3",
   "version": "3.11.4"
  },
  "orig_nbformat": 4
 },
 "nbformat": 4,
 "nbformat_minor": 2
}
